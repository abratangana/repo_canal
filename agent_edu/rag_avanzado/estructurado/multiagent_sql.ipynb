{
 "cells": [
  {
   "cell_type": "markdown",
   "id": "17663936",
   "metadata": {},
   "source": [
    "## Importamos las librerías de openai y tavily para comprobar su funcionamiento"
   ]
  },
  {
   "cell_type": "code",
   "execution_count": 3,
   "id": "a28e26b3",
   "metadata": {},
   "outputs": [
    {
     "name": "stdout",
     "output_type": "stream",
     "text": [
      "content='La capital de España es Madrid.' additional_kwargs={'refusal': None} response_metadata={'token_usage': {'completion_tokens': 8, 'prompt_tokens': 15, 'total_tokens': 23, 'completion_tokens_details': {'accepted_prediction_tokens': 0, 'audio_tokens': 0, 'reasoning_tokens': 0, 'rejected_prediction_tokens': 0}, 'prompt_tokens_details': {'audio_tokens': 0, 'cached_tokens': 0}}, 'model_name': 'gpt-4o-mini-2024-07-18', 'system_fingerprint': 'fp_44added55e', 'id': 'chatcmpl-BMGgE3RQGmEq2DQHPXIjfxfdaiAyt', 'finish_reason': 'stop', 'logprobs': None} id='run-cec2366e-0096-4232-8146-36f7d900f2f4-0' usage_metadata={'input_tokens': 15, 'output_tokens': 8, 'total_tokens': 23, 'input_token_details': {'audio': 0, 'cache_read': 0}, 'output_token_details': {'audio': 0, 'reasoning': 0}}\n",
      "[{'title': '[FREE] ¿Cuál es la capital de Venezuela? A. Valencia B. Maracaibo ...', 'url': 'https://brainly.com/question/58412178?source=next+question', 'content': 'La capital de Venezuela es Caracas, que es el centro político, económico y cultural del país. Otras ciudades importantes incluyen Valencia,', 'score': 0.9344013}, {'title': 'Caracas: conocé el origen del nombre de la capital de Venezuela', 'url': 'https://billiken.lat/el-mundo/caracas-conoce-el-origen-del-nombre-de-la-capital-de-venezuela/', 'content': 'El nombre oficial de la capital de Venezuela es Santiago de León de Caracas. La ciudad fue fundada el 25 de julio de 1567 por Diego de Losada.', 'score': 0.91490877}, {'title': 'Caracas - Wikipedia, la enciclopedia libre', 'url': 'https://es.wikipedia.org/wiki/Caracas', 'content': 'Caracas es la capital federal y ciudad más poblada de la República Bolivariana de Venezuela.[5]\\u200b Desde el siglo\\xa0XIX, ha sido el epicentro del poder político del país.[6]\\u200b Se encuentra en la región Capital de Venezuela, a 12 km del mar Caribe, dentro de un valle montañoso.[7]\\u200b A pesar de su proximidad a la costa, la ciudad se ubica a casi 1000 metros de altitud, separada del Litoral Central por la Cordillera de la Costa, la cual, en su tramo urbano, conforma el Parque Nacional El Ávila.[8]\\u200b La [...] En el verano de 1777 el gobernador Luis de Unzaga y Amézaga \\'el Conciliador\\', recién llegado de Nueva Orleans, creó la Capitanía general de Venezuela, agrupando territorios de Guayana, Trinidad, etc. y estableciendo como capital esta ciudad que entonces se llamaría \"Ciudad Mariana de Caracas\"; actualmente y por ello Nueva Orleans mantiene un hermanamiento con Caracas. Entre 1778 y 1779 el ilustrado y precursor del liberalismo Luis de Unzaga creó varias escuelas públicas en Venezuela, entre [...] Urbanísticamente, la capital venezolana consolidó su expansión fuera del Valle de Caracas con el desarrollo urbanístico en zonas como El Hatillo y Baruta. Además, el concepto de \"Gran Caracas\" se popularizó entre sus habitantes debido a la expansión de las \"ciudades satélite\", como Guarenas, Guatire, Los Teques o San Antonio, e incluso el Estado Vargas; en las que se concentró parte de la fuerza de trabajo de la capital.[44]\\u200b\\n\\nGeografía', 'score': 0.90289277}, {'title': 'Caracas - Wikipedia', 'url': 'https://en.wikipedia.org/wiki/Caracas', 'content': \"Caracas (/kəˈrækəs, -ˈrɑːk-/ kə-RA(H)K-əs, Spanish: [kaˈɾakas]), officially Santiago de León de Caracas (CCS), is the capital and largest city of Venezuela, and the center of the Metropolitan Region of Caracas (or Greater Caracas).[2] Caracas is located along the Guaire River in the northern part of the country, within the Caracas Valley of the Venezuelan coastal mountain range (Cordillera de la Costa). The valley is close to the Caribbean Sea, separated from the coast by a steep [...] Venezuela. Caracas is also Venezuela's cultural capital, with many restaurants, theaters, museums, and shopping centers. Caracas has some of the tallest skyscrapers in Latin America,[7] such as the Parque Central Towers.[8] The Museum of Contemporary Art of Caracas is one of the most important in South America.[9] [...] Coordinates:10°28′50″N66°54′13″W\\ufeff / \\ufeff10.48056°N 66.90361°W\\ufeff /10.48056; -66.90361\\nCountry | Venezuela\\nState | Capital District\\nFounded | 25 July 1567\\nFounded by | Diego de Losada\\nGovernment\\n•\\xa0Type | Mayor–council\\n•\\xa0Body | Government of the Capital District\\n•Chief of Government | Jacqueline Faría\\nArea\\n•Capital city | 433\\xa0km2(167\\xa0sq\\xa0mi)\\n•\\xa0Metro | 4,715.1\\xa0km2(1,820.5\\xa0sq\\xa0mi)\\nElevation | 900\\xa0m (3,000\\xa0ft)\\nHighest\\xa0elevation | 1,400\\xa0m (4,600\\xa0ft)\\nLowest\\xa0elevation | 870\\xa0m (2,850\\xa0ft)\\nPopulation(2022)\", 'score': 0.9006087}, {'title': 'What is the capital of (Venezuela)? Flashcards - Quizlet', 'url': 'https://quizlet.com/715900049/what-is-the-capital-of-venezuela-flash-cards/', 'content': 'La capital de Venezuela es Caracas. ¿Cuál es la capital de Colombia?', 'score': 0.89279664}]\n"
     ]
    }
   ],
   "source": [
    "from langchain_openai import ChatOpenAI\n",
    "from langchain_community.tools.tavily_search import TavilySearchResults\n",
    "from dotenv import load_dotenv\n",
    "import os\n",
    "\n",
    "load_dotenv()\n",
    "\n",
    "openai_api_key = os.getenv(\"OPENAI_API_KEY\")\n",
    "tavily_api_key = os.getenv(\"TAVILY_API_KEY\")\n",
    "\n",
    "llm = ChatOpenAI(model='gpt-4o-mini', temperature=0.3)\n",
    "search_tool = TavilySearchResults(max_results=5)\n",
    "\n",
    "print(llm.invoke('Cual es la capital de España?'))\n",
    "print(search_tool.invoke('Cual es la capital de venezuela?'))"
   ]
  },
  {
   "cell_type": "markdown",
   "id": "06575bfc",
   "metadata": {},
   "source": [
    "### Genial, nuestro llm funciona perfecto y la herramienta de busquedas también, ahora manejemos la arquitectura de nuestro agente"
   ]
  },
  {
   "cell_type": "code",
   "execution_count": 4,
   "id": "5647ce80",
   "metadata": {},
   "outputs": [],
   "source": [
    "from langchain.memory import ConversationBufferMemory\n",
    "session_memories = {}\n",
    "\n",
    "def get_memory_for_session(session_id: str) -> ConversationBufferMemory:\n",
    "    \"\"\"Obtiene o crea una memoria específica para una sesión.\"\"\"\n",
    "    if session_id not in session_memories:\n",
    "        session_memories[session_id] = ConversationBufferMemory(\n",
    "            return_messages=True,\n",
    "            memory_key=\"chat_history\"\n",
    "        )\n",
    "    return session_memories[session_id]"
   ]
  },
  {
   "cell_type": "markdown",
   "id": "fdc12b2a",
   "metadata": {},
   "source": [
    "## Creamos una funcion para manejar los session id y que nuestro agente tenga MEMORIA"
   ]
  },
  {
   "cell_type": "code",
   "execution_count": 6,
   "id": "717c305d",
   "metadata": {},
   "outputs": [],
   "source": [
    "from langchain_community.utilities import SQLDatabase\n",
    "from langchain_community.tools.sql_database.tool import QuerySQLDatabaseTool\n",
    "from langchain import hub\n",
    "from typing import Literal\n",
    "from typing_extensions import TypedDict\n",
    "from typing import Annotated\n",
    "from langgraph.graph import MessagesState, END,START\n",
    "from langgraph.types import Command\n",
    "from langchain_core.messages import HumanMessage\n",
    "from langgraph.graph import Graph, StateGraph\n",
    "from langgraph.prebuilt import create_react_agent\n"
   ]
  },
  {
   "cell_type": "markdown",
   "id": "3e652c40",
   "metadata": {},
   "source": [
    "### Importamos todas las clases que usaremos para conectar nuestro agente especializado a bases de datos relacionales sql y elementos para generar el grafo con un manejo de estado óptimo y preciso"
   ]
  },
  {
   "cell_type": "code",
   "execution_count": null,
   "id": "c250f5b3",
   "metadata": {},
   "outputs": [],
   "source": [
    "\n",
    "members=[\"researcher\", \"sql_agent\"]\n",
    "options=members+['FINISH']\n",
    "\n",
    "system_prompt = (\n",
    "    \"You are a supervisor tasked with managing a conversation between the\"\n",
    "    f\" following workers: {members}. Given the following user request,\"\n",
    "    \" choose the most appropriate worker to handle it.\"\n",
    "    \" The researcher handles general knowledge questions.\"\n",
    "    \" The sql_agent handles database queries about sales, customers, and business data.\"\n",
    "    \" When the conversation is complete, respond with FINISH.\"\n",
    "    \" Consider the context of previous interactions when making your decision.\"\n",
    ")\n",
    "\n",
    "class State(MessagesState):\n",
    "    next: str\n",
    "    session_id: str = \"default\"\n",
    "    context: dict = {}  # Almacenamiento por sesión\n",
    "    sql_history: list = []  # Historial de seguimiento para sqls\n",
    "    last_agent: str = \"\"  # Pasamos como estado el ultimo agente que ha respondido\n",
    "\n",
    "class Router(TypedDict):\n",
    "    \"\"\"Trabajador a enrutar al siguiente. Si no se necesitan trabajadores, enrutar a FINISH.\"\"\"\n",
    "\n",
    "    next: Literal[\"researcher\", \"sql_agent\", \"FINISH\"]\n",
    "\n",
    "\n",
    "\n",
    "def supervisor_node(state: State) -> Command[Literal[\"researcher\", \"sql_agent\", \"__end__\"]]:\n",
    "    session_id = state[\"session_id\"]\n",
    "    memory=get_memory_for_session(session_id)\n",
    "    messages = [\n",
    "        {\"role\": \"system\", \"content\": system_prompt},\n",
    "    ] + state[\"messages\"]\n",
    "    \n",
    " # Recuperar historial de memoria específico de la sesión\n",
    "    chat_history = memory.load_memory_variables({}).get(\"chat_history\", [])\n",
    "    if chat_history:\n",
    "        messages[0][\"content\"] += f\"\\nChat History: {chat_history}\"\n",
    "\n",
    "    if state[\"sql_history\"]:\n",
    "        sql_context = \"\\nPrevious SQL interactions: \" + \"; \".join(state[\"sql_history\"][-3:])  # Ultimos 3 SQLs\n",
    "        messages[0][\"content\"] += sql_context\n",
    "\n",
    "    response = llm.with_structured_output(Router).invoke(messages)\n",
    "    goto = response[\"next\"]\n",
    "\n",
    "    if goto != END:\n",
    "        last_message = state[\"messages\"][-1].content if state[\"messages\"] else \"\"\n",
    "        memory.save_context({\"input\": last_message}, {\"output\": goto})\n",
    "        state[\"last_agent\"] = goto\n",
    "\n",
    "    if goto == \"FINISH\":\n",
    "        goto = END\n",
    "\n",
    "    return Command(\n",
    "        goto=goto,\n",
    "        update={\n",
    "            \"next\": goto,\n",
    "            \"last_agent\": state[\"last_agent\"]\n",
    "        }\n",
    "    )\n"
   ]
  },
  {
   "cell_type": "markdown",
   "id": "b624e00f",
   "metadata": {},
   "source": [
    "### Ya con esto definimos perfectamente el estado principal de nuestro agente y creamos de manera adecuada a nuestro agente orquestador. Ahora vamos a definir los miembros definidos en las listas previamente"
   ]
  },
  {
   "cell_type": "code",
   "execution_count": 8,
   "id": "ec3f74c0",
   "metadata": {},
   "outputs": [],
   "source": [
    "research_agent = create_react_agent(\n",
    "    model=llm,\n",
    "    tools=[search_tool],\n",
    "    prompt=\"Eres un agente experto en la búsqueda de información para responder preguntas usando siempre fuentes fiables, razonando de manera inteligente sobre tu respuesta.\"\n",
    ")\n",
    "\n",
    "def research_node(state: State) -> Command[Literal[\"supervisor\"]]:\n",
    "    \"\"\"Research node that processes general knowledge queries.\"\"\"\n",
    "    session_id = state[\"session_id\"]\n",
    "    memory=get_memory_for_session(session_id)\n",
    "    question = state[\"messages\"][-1].content\n",
    "    \n",
    "    chat_history = memory.load_memory_variables({}).get(\"chat_history\", [])\n",
    "    if chat_history:\n",
    "        enriched_query = f\"Given this context: {chat_history}\\nAnswer this question: {question}\"\n",
    "    else:\n",
    "        enriched_query = question\n",
    "\n",
    "    result = research_agent.invoke({\n",
    "        \"messages\": [HumanMessage(content=enriched_query)]\n",
    "    })\n",
    "\n",
    "    return Command(\n",
    "        update={\n",
    "            \"messages\": [\n",
    "                HumanMessage(content=result[\"messages\"][-1].content, name=\"researcher\")\n",
    "            ]\n",
    "        },\n",
    "        goto=\"supervisor\"\n",
    "    )\n"
   ]
  },
  {
   "cell_type": "markdown",
   "id": "04b40c1c",
   "metadata": {},
   "source": [
    "## Tenemos ya nuestro agente de busqueda definido con Tavily!! Ahora vamos con lo complejo, nuestro agente de sql."
   ]
  },
  {
   "cell_type": "code",
   "execution_count": 9,
   "id": "844a34fb",
   "metadata": {},
   "outputs": [
    {
     "name": "stderr",
     "output_type": "stream",
     "text": [
      "c:\\Users\\Abraham Pérez\\OneDrive\\Desktop\\Trabajo\\panomada\\repositorio_canal\\agent_edu\\Lib\\site-packages\\langsmith\\client.py:278: LangSmithMissingAPIKeyWarning: API key must be provided when using hosted LangSmith API\n",
      "  warnings.warn(\n"
     ]
    }
   ],
   "source": [
    "db = SQLDatabase.from_uri(\"sqlite:///Chinook.db\")## Definimos nuestra base de datos\n",
    "\n",
    "\n",
    "query_prompt_template = hub.pull(\"langchain-ai/sql-query-system-prompt\") ##Usamos el modulo hub para importar un prompt de SQL predefinido\n",
    "\n",
    "\n",
    "class QueryOutput(TypedDict):\n",
    "    \"\"\"Generated SQL query.\"\"\"\n",
    "    query: Annotated[str, ..., \"Syntactically valid SQL query.\"]  ##Creamos la clase para que el nodo cree una setencia sql valida y no texto. \n",
    "def sql_write_query(question: str) -> str:\n",
    "    \"\"\"Generate SQL query to fetch information.\"\"\"\n",
    "    prompt = query_prompt_template.invoke(\n",
    "        {\n",
    "            \"dialect\": db.dialect,\n",
    "            \"top_k\": 10,\n",
    "            \"table_info\": db.get_table_info(),\n",
    "            \"input\": question\n",
    "        }\n",
    "    )\n",
    "    structured_llm = llm.with_structured_output(QueryOutput)\n",
    "    result = structured_llm.invoke(prompt)\n",
    "    return result[\"query\"]\n",
    "\n",
    "def sql_execute_query(query: str) -> str:\n",
    "    \"\"\"Execute SQL query.\"\"\"\n",
    "    execute_query_tool = QuerySQLDatabaseTool(db=db)\n",
    "    return execute_query_tool.invoke(query)\n",
    "\n",
    "def sql_generate_answer(question: str, query: str, result: str) -> str:\n",
    "    \"\"\"Answer question using retrieved information as context.\"\"\"\n",
    "    prompt = (\n",
    "        \"Given the following user question, corresponding SQL query, \"\n",
    "        \"and SQL result, answer the user question.\\n\\n\"\n",
    "        f'Question: {question}\\n'\n",
    "        f'SQL Query: {query}\\n'\n",
    "        f'SQL Result: {result}'\n",
    "    )\n",
    "    response = llm.invoke(prompt)\n",
    "    return response.content\n",
    "\n",
    "def sql_agent_node(state: State) -> Command[Literal[\"supervisor\"]]:\n",
    "    \"\"\"SQL Agent node that processes database queries.\"\"\"\n",
    "    \n",
    "    session_id = state[\"session_id\"]\n",
    "    memory = get_memory_for_session(session_id)\n",
    "   \n",
    "    last_message = state[\"messages\"][-1]\n",
    "    question = last_message.content\n",
    "    \n",
    "    # SQL pipeline\n",
    "    query = sql_write_query(question)\n",
    "    result = sql_execute_query(query)\n",
    "    answer = sql_generate_answer(question, query, result)\n",
    "    \n",
    " \n",
    "    state[\"sql_history\"].append(f\"Q: {question} | SQL: {query}\")\n",
    "    if len(state[\"sql_history\"]) > 10:  # Keep last 10 queries\n",
    "        state[\"sql_history\"] = state[\"sql_history\"][-10:]\n",
    "    \n",
    "   \n",
    "    memory.save_context({\"input\": question}, {\"output\": answer})\n",
    "\n",
    "    return Command(\n",
    "        update={\n",
    "            \"messages\": [\n",
    "                HumanMessage(content=answer, name=\"sql_agent\")\n",
    "            ],\n",
    "            \"sql_history\": state[\"sql_history\"]\n",
    "        },\n",
    "        goto=\"supervisor\"\n",
    "    )\n"
   ]
  },
  {
   "cell_type": "markdown",
   "id": "4883ac5c",
   "metadata": {},
   "source": [
    "## YA TENEMOS LOS AGENTES LISTOS!! Ahora solo queda procesar la información de los mensajes y definir nuestro grafo"
   ]
  },
  {
   "cell_type": "code",
   "execution_count": 10,
   "id": "bc2200c6",
   "metadata": {},
   "outputs": [],
   "source": [
    "workflow = StateGraph(State)\n",
    "workflow.add_node(\"supervisor\", supervisor_node)\n",
    "workflow.add_edge(START,\"supervisor\")\n",
    "workflow.add_node(\"researcher\", research_node)\n",
    "workflow.add_node(\"sql_agent\", sql_agent_node)\n",
    "#workflow.add_edge(\"supervisor\", \"researcher\")\n",
    "##workflow.add_edge(\"supervisor\", \"sql_agent\")\n",
    "##workflow.add_edge(\"researcher\", \"supervisor\")\n",
    "##workflow.add_edge(\"sql_agent\", \"supervisor\")\n",
    "##workflow.add_edge(\"supervisor\", END)\n",
    "#workflow.set_entry_point(\"supervisor\")\n",
    "graph = workflow.compile()"
   ]
  },
  {
   "cell_type": "markdown",
   "id": "c7a425a4",
   "metadata": {},
   "source": [
    "## Comentamos algunas aristas debido a que al usar \"command\" no es necesario definirlas de manera explícita, sin embargo ahí tienen un ejemplo de como se verían (ignorando que en todo caso usaríamos conditional edge para que el grafo defina su flujo de manera autonoma)"
   ]
  },
  {
   "cell_type": "code",
   "execution_count": 11,
   "id": "f7eca6fd",
   "metadata": {},
   "outputs": [],
   "source": [
    "def process_message(message: str, session_id: str = \"default\"):\n",
    "    \"\"\"Process a message through the multi-agent system.\"\"\"\n",
    "    try:\n",
    "        config = {\"configurable\": {\"session_id\": session_id}}\n",
    "        \n",
    "        initial_state = {\n",
    "            \"messages\": [HumanMessage(content=message)],\n",
    "            \"session_id\": session_id,\n",
    "            \"context\": {},\n",
    "            \"sql_history\": [],\n",
    "            \"last_agent\": \"\",\n",
    "            \"next\": \"supervisor\"\n",
    "        }\n",
    "        \n",
    "        result = graph.invoke(initial_state, config)\n",
    "        \n",
    "        return {\n",
    "            \"response\": result[\"messages\"][-1].content,\n",
    "            \"last_agent\": result[\"last_agent\"],\n",
    "            \"session_id\": session_id\n",
    "        }\n",
    "    except Exception as e:\n",
    "        return {\n",
    "            \"error\": str(e),\n",
    "            \"session_id\": session_id\n",
    "        }"
   ]
  },
  {
   "cell_type": "markdown",
   "id": "103a8afa",
   "metadata": {},
   "source": [
    "## Ya con el procesamiento de mensajes hechos podemos ver en acción a nuestro multi agente!!, pero antes veamoslo graficamente"
   ]
  },
  {
   "cell_type": "code",
   "execution_count": 12,
   "id": "79cdd0c8",
   "metadata": {},
   "outputs": [
    {
     "data": {
      "image/png": "[encoded data removed]",
      "text/plain": [
       "<IPython.core.display.Image object>"
      ]
     },
     "metadata": {},
     "output_type": "display_data"
    }
   ],
   "source": [
    "from IPython.display import Image, display\n",
    "\n",
    "display(Image(graph.get_graph().draw_mermaid_png()))"
   ]
  },
  {
   "cell_type": "markdown",
   "id": "216c4e65",
   "metadata": {},
   "source": [
    "# Ahora sÍ, A DISFRUTAR"
   ]
  },
  {
   "cell_type": "code",
   "execution_count": 13,
   "id": "e0cef095",
   "metadata": {},
   "outputs": [
    {
     "name": "stderr",
     "output_type": "stream",
     "text": [
      "C:\\Users\\Abraham Pérez\\AppData\\Local\\Temp\\ipykernel_1956\\793116714.py:7: LangChainDeprecationWarning: Please see the migration guide at: https://python.langchain.com/docs/versions/migrating_memory/\n",
      "  session_memories[session_id] = ConversationBufferMemory(\n"
     ]
    },
    {
     "name": "stdout",
     "output_type": "stream",
     "text": [
      "SQL Query Result: {'response': 'El agente que generó más dinero en el año 2009 fue Steve Johnson, con un total de 164.34.', 'last_agent': 'FINISH', 'session_id': 'default'}\n",
      "\n",
      "Research Result: {'response': 'La capital de Francia es **París**. Esta ciudad no solo es la más poblada del país, sino que también es un importante centro cultural y comercial a nivel mundial. Para más información, puedes consultar [este artículo de Wikipedia](https://es.wikipedia.org/wiki/Capital_de_Francia).', 'last_agent': 'FINISH', 'session_id': 'default'}\n",
      "\n",
      "Follow-up Result: {'response': 'Francia tiene una población de aproximadamente **68 millones de habitantes** en 2023. Este dato refleja un aumento del 0.3% respecto al año anterior. Para más detalles, puedes consultar la información en [RFI](https://www.rfi.fr/es/m%C3%A1s-noticias/20230117-la-poblaci%C3%B3n-de-francia-se-sit%C3%BAa-en-68-millones-en-2023) o en [Datosmacro](https://datosmacro.expansion.com/demografia/poblacion/francia).', 'last_agent': 'FINISH', 'session_id': 'default'}\n"
     ]
    }
   ],
   "source": [
    "if __name__ == '__main__':\n",
    "    \n",
    "    sql_result = process_message(\"Que agente genero mas dinero en el año 2009?\")\n",
    "    print(\"SQL Query Result:\", sql_result)\n",
    "    \n",
    "    research_result = process_message(\"¿Cuál es la capital de Francia?\")\n",
    "    print(\"\\nResearch Result:\", research_result)\n",
    "    \n",
    "    followup_result = process_message(\"¿Cuántos habitantes tiene este pais??\")\n",
    "    print(\"\\nFollow-up Result:\", followup_result)"
   ]
  }
 ],
 "metadata": {
  "kernelspec": {
   "display_name": "agent_edu",
   "language": "python",
   "name": "python3"
  },
  "language_info": {
   "codemirror_mode": {
    "name": "ipython",
    "version": 3
   },
   "file_extension": ".py",
   "mimetype": "text/x-python",
   "name": "python",
   "nbconvert_exporter": "python",
   "pygments_lexer": "ipython3",
   "version": "3.12.10"
  }
 },
 "nbformat": 4,
 "nbformat_minor": 5
}
