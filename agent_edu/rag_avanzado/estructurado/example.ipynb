{
 "cells": [
  {
   "cell_type": "markdown",
   "id": "b6358355",
   "metadata": {},
   "source": [
    "## Importamos lo necesario para poder interactuar de a primeras con nuestro modelo y la herramienta de busqueda"
   ]
  },
  {
   "cell_type": "code",
   "execution_count": 3,
   "id": "844a34fb",
   "metadata": {},
   "outputs": [
    {
     "name": "stdout",
     "output_type": "stream",
     "text": [
      "content='La capital de Venezuela es Caracas.' additional_kwargs={'refusal': None} response_metadata={'token_usage': {'completion_tokens': 8, 'prompt_tokens': 15, 'total_tokens': 23, 'completion_tokens_details': {'accepted_prediction_tokens': 0, 'audio_tokens': 0, 'reasoning_tokens': 0, 'rejected_prediction_tokens': 0}, 'prompt_tokens_details': {'audio_tokens': 0, 'cached_tokens': 0}}, 'model_name': 'gpt-4o-mini-2024-07-18', 'system_fingerprint': 'fp_b376dfbbd5', 'id': 'chatcmpl-BKoYr8XLbUKzZhZf50fzPND6eqM76', 'finish_reason': 'stop', 'logprobs': None} id='run-8a0e7bdd-1f50-4b76-80d9-8650348553a7-0' usage_metadata={'input_tokens': 15, 'output_tokens': 8, 'total_tokens': 23, 'input_token_details': {'audio': 0, 'cache_read': 0}, 'output_token_details': {'audio': 0, 'reasoning': 0}}\n",
      "[{'title': 'Principales Ciudades de España', 'url': 'https://www.camaraofespanola.org/principales-ciudades-de-espana/', 'content': 'Madrid es la capital de España. Con una población de cuatro millones 726 mil habitantes, es sede de las instituciones nacionales más importantes y organismos de la administración pública. Entre ellas se encuentran el Congreso de los Diputados, el Senado y la Casa de Su Majestad, El Rey Juan Carlos de España, y la Biblioteca Nacional. Además Madrid es una ciudad cosmopolita que combina las infraestructuras más modernas y su condición de centro económico, financiero, administrativo y de servicios', 'score': 0.9018604}, {'title': 'Capitalidad en España - Wikipedia, la enciclopedia libre', 'url': 'https://es.wikipedia.org/wiki/Capitalidad_en_Espa%C3%B1a', 'content': 'En España, la capital del Estado es la Villa de Madrid, a su vez sede del Gobierno del país y del jefe de Estado. Después están las capitales de las comunidades autónomas, entidades que han asumido competencias de diferentes aspectos (educativas, sanitarias, fiscales, etc.). También hay capitales de provincia, de comarcas y de municipio, entre otras.\\n\\nHistoria [...] Capitales ocasionales de España\\n\\nDesde 1561 Madrid ha sido la capital de España, excepto:\\n\\nVéase también\\n\\nReferencias\\n\\nControl de autoridades | Proyectos WikimediaDatos:Q5748494IdentificadoresBNE:XX521408 [...] Fue el rey Felipe II de España el que fijó la capital en Madrid, donde asentó toda la burocracia y creó un circuito anual por los reales sitios de El Escorial y Aranjuez. El duque de Lerma se llevó unos años la capital a Valladolid, para controlar al rey Felipe III de España más cerca de sus propios feudos (Lerma, en Burgos) y para chantajear a los comerciantes madrileños, que lo sobornaron para que les devolviera el negocio de tener la corte.\\n\\nRazones de la actual capitalidad de Madrid', 'score': 0.8989177}, {'title': 'Mapa político de España: Comunidades, capitales y provincias', 'url': 'https://www.once.es/servicios-sociales/braille/comision-braille-espanola/documentos-tecnicos/mapa-politico-de-espana-comunidades-capitales-y-provincias', 'content': 'España, también denominado Reino de España, es un país que cuenta con una extensión de 505.944 kilómetros cuadrados y que está localizado en la Península Ibérica, Las Islas Canarias, Las Islas Baleares y el norte de África en las ciudades de Ceuta y Melilla, como bien puede verse en este mapa político. Este hecho confiere al territorio la consideración de país transcontinental, al estar presente en más de un continente. La capital de España es Madrid, y el país está formado por 17 comunidades [...] Capital\\n\\nProvincias\\n\\nTotal de habitantes\\n\\nAndalucía\\n\\nSevilla\\n\\nAlmería, Cádiz, Córdoba, Granada, Huelva, Jaén, Málaga y Sevilla\\n\\n8.476.718\\n\\nAragón\\n\\nZaragoza\\n\\nHuesca, Teruel y Zaragoza\\n\\n1.329.391\\n\\nCanarias\\n\\nLas Palmas de Gran Canaria y Santa Cruz de Tenerife\\n\\nLas Palmas de Gran Canaria y Santa Cruz de Tenerife\\n\\n2.175.952\\n\\nCantabria\\n\\nSantander\\n\\nSantander\\n\\n582.905\\n\\nCastilla-La Mancha\\n\\nToledo\\n\\nAlbacete, Ciudad Real, Cuenca, Guadalajara y Toledo\\n\\n2.045.221\\n\\nCastilla y León\\n\\nNo declarada [...] Ávila, Burgos, León, Palencia, Salamanca, Segovia, Soria, Valladolid y Zamora\\n\\n2.383.139\\n\\nCataluña\\n\\nBarcelona\\n\\nBarcelona, Girona, Lleida y Tarragona\\n\\n7.780.479\\n\\nComunidad de Madrid\\n\\nMadrid\\n\\nMadrid\\n\\n6.779.888\\n\\nComunidad Valenciana\\n\\nValencia\\n\\nAlicante, Castellón y Valencia\\n\\n5.057.353\\n\\nExtremadura\\n\\nMérida\\n\\nBadajoz y Cáceres\\n\\n1.045.779\\n\\nGalicia\\n\\nSantiago de Compostela\\n\\nLa Coruña, Lugo, Orense y Pontevedra\\n\\n2.701.819\\n\\nIslas Baleares\\n\\nPalma de Mallorca\\n\\nPalma de Mallorca\\n\\n1.219.423\\n\\nLa Rioja', 'score': 0.8923472}, {'title': 'Madrid, Capital Política y Financiera de España - Prologis', 'url': 'https://www.prologis.es/propiedades/madrid-capital-politica-y-financiera-de-espana', 'content': 'Secondary menu\\n\\n\\n\\nMadrid, Capital Política y Financiera de España\\n\\nMadrid, la capital de España, cuenta con una población urbana de 3,3 millones, con 6,5\\xa0millones de habitantes en el área metropolitana. Es la tercera ciudad más grande de Europa y representa aproximadamente el 20 por ciento del PIB de España. [...] La capital es un centro estratégico para la logística internacional, nacional y regional, con una alta demanda comercial y de consumo. El aeropuerto de Barajas es uno de los diez mayores centros de mercancías europeos, con un tráfico de 340\\xa0000 toneladas en 2015. En 2015 se inauguró la línea ferroviaria más larga del mundo y el primer enlace directo entre China y España, lo que muestra el potencial para una nueva Ruta de la Seda. [...] Muchas de las grandes empresas españolas, como Telefónica e Iberia Líneas Aéreas de España, tienen su sede en Madrid. La mayor parte de la economía madrileña procede de los servicios, que representan un 85\\xa0% de su PIB.', 'score': 0.8872928}, {'title': '¿Cuál es la capital de España? | Spanish Translator - SpanishDict', 'url': 'https://www.spanishdict.com/translate/%C2%BFCu%C3%A1l%20es%20la%20capital%20de%20Espa%C3%B1a%3F', 'content': \"¿Cuál es la capital de España? - Es Madrid. What is the capital of Spain? - It's Madrid. ¿Cuál es la capital de España\", 'score': 0.88705814}]\n"
     ]
    }
   ],
   "source": [
    "from langchain_openai import ChatOpenAI\n",
    "from langchain_community.tools.tavily_search import TavilySearchResults\n",
    "from dotenv import load_dotenv\n",
    "import os\n",
    "\n",
    "load_dotenv()\n",
    "\n",
    "openai_api_key = os.getenv(\"OPENAI_API_KEY\")\n",
    "tavily_api_key = os.getenv(\"TAVILY_API_KEY\")\n",
    "\n",
    "llm=ChatOpenAI(model='gpt-4o-mini',temperature=0.3)\n",
    "search_tool = TavilySearchResults(max_results=5)\n",
    "\n",
    "print(llm.invoke(\"Cual es la capital de venezuela\"))\n",
    "print(search_tool.invoke(\"Cual es la capital de españa?\"))"
   ]
  },
  {
   "cell_type": "markdown",
   "id": "8d7c9517",
   "metadata": {},
   "source": [
    "## Agente de busqueda preconstruido con REACT"
   ]
  },
  {
   "cell_type": "code",
   "execution_count": null,
   "id": "ace6a297",
   "metadata": {},
   "outputs": [
    {
     "name": "stdout",
     "output_type": "stream",
     "text": [
      "{'messages': [HumanMessage(content='¿Cuál es la capital de España?', additional_kwargs={}, response_metadata={}, id='ae381324-83e1-4084-aee6-67360744f8a6'), AIMessage(content='La capital de España es Madrid. Es la ciudad más grande del país y un importante centro cultural, político y económico.', additional_kwargs={'refusal': None}, response_metadata={'token_usage': {'completion_tokens': 26, 'prompt_tokens': 114, 'total_tokens': 140, 'completion_tokens_details': {'accepted_prediction_tokens': 0, 'audio_tokens': 0, 'reasoning_tokens': 0, 'rejected_prediction_tokens': 0}, 'prompt_tokens_details': {'audio_tokens': 0, 'cached_tokens': 0}}, 'model_name': 'gpt-4o-mini-2024-07-18', 'system_fingerprint': 'fp_64e0ac9789', 'id': 'chatcmpl-BKopoa6Ei79bFiGk42Aj4pPAlGKTq', 'finish_reason': 'stop', 'logprobs': None}, id='run-8c43d70e-875c-4ee6-b3b2-eabc1e93b6a8-0', usage_metadata={'input_tokens': 114, 'output_tokens': 26, 'total_tokens': 140, 'input_token_details': {'audio': 0, 'cache_read': 0}, 'output_token_details': {'audio': 0, 'reasoning': 0}})]}\n"
     ]
    }
   ],
   "source": [
    "## Un agente react es una clase preconstruida de langgraph el cual tiene una cadena de pensamiento en base a los recursos que tiene, de modo tal que:\n",
    "##s un tipo de agente basado en la técnica ReAct (Reasoning + Acting) que combina razonamiento paso a paso con ejecución de acciones. Viene como uno de los agentes preconstruidos (prebuilt agents) que puedes usar directamente con LangGraph y LangChain.\n",
    "## Un ReAct Agent:\n",
    "\n",
    "##Razona paso a paso (\"Thought\").\n",
    "\n",
    "##Toma acciones concretas usando herramientas disponibles (\"Action\").\n",
    "\n",
    "##Usa el resultado de la acción (\"Observation\") para razonar más y continuar.\n",
    "\n",
    "##Repite este ciclo hasta alcanzar una respuesta final.\n",
    "\n",
    "from typing import Literal\n",
    "from typing_extensions import TypedDict\n",
    "from langgraph.graph import MessagesState, END\n",
    "from langgraph.types import Command\n",
    "from langchain_core.messages import HumanMessage\n",
    "from langchain.memory import  PostgresChatMessageHistory\n",
    "\n",
    "class State(MessagesState):\n",
    "    next: str\n",
    "    \n",
    "    \n",
    "from langgraph.prebuilt import create_react_agent\n",
    "\n",
    "research_agent = create_react_agent(\n",
    "    model=llm,\n",
    "    tools=[search_tool],\n",
    "    prompt=\"Eres un agente experto en la búsqueda de información para responder preguntas usando siempre fuentes fiables, razonando de manera inteligente sobre tu respuesta.\"\n",
    ")\n",
    "\n",
    "print(research_agent.invoke({\n",
    "    \"messages\": [HumanMessage(content=\"¿Cuál es la capital de España?\")]\n",
    "}))\n",
    "\n"
   ]
  },
  {
   "cell_type": "markdown",
   "id": "f616a21c",
   "metadata": {},
   "source": [
    "#### Perfecto!!, el agente funciona correctamente, ahora hagamos nuestra primera función util para el grafo final"
   ]
  },
  {
   "cell_type": "code",
   "execution_count": 11,
   "id": "85a694b2",
   "metadata": {},
   "outputs": [],
   "source": [
    "## Definimos a nuestro agente supervisor\n",
    "members=[\"researcher\", \"sql_agent\"]\n",
    "options=members+['FINISH']\n",
    "\n",
    "system_prompt = (\n",
    "    \"You are a supervisor tasked with managing a conversation between the\"\n",
    "    f\" following workers: {members}. Given the following user request,\"\n",
    "    \" respond with the worker to act next. Each worker will perform a\"\n",
    "    \" task and respond with their results and status. When finished,\"\n",
    "    \" respond with FINISH.\"\n",
    ")\n",
    "\n",
    "\n",
    "class Router(TypedDict):\n",
    "    \"\"\"Trabajador a enrutar al siguiente. Si no se necesitan trabajadores, enrutar a FINALIZAR.\"\"\"\n",
    "\n",
    "    next: Literal[*options]\n",
    "    \n",
    "def supervisor_node(state: State) -> Command[Literal[*members, \"__end__\"]]:\n",
    "    messages = [\n",
    "        {\"role\": \"system\", \"content\": system_prompt},\n",
    "    ] + state[\"messages\"]\n",
    "    response = llm.with_structured_output(Router).invoke(messages)\n",
    "    goto = response[\"next\"]\n",
    "    if goto == \"FINISH\":\n",
    "        goto = END\n",
    "\n",
    "    return Command(goto=goto, update={\"next\": goto})    \n",
    "\n",
    "##Usamos el estado para obtener la consulta y lo dirigimos al supervisor una vez definido\n",
    "def research_node(state: State) -> Command[Literal[\"supervisor\"]]:\n",
    "    result = research_agent.invoke(state)\n",
    "    return Command(\n",
    "        update={\n",
    "            \"messages\": [\n",
    "                HumanMessage(content=result[\"messages\"][-1].content, name=\"researcher\")\n",
    "            ]\n",
    "        },\n",
    "        goto=\"supervisor\",\n",
    "    )"
   ]
  },
  {
   "cell_type": "markdown",
   "id": "360b1981",
   "metadata": {},
   "source": [
    "## Va agarrando forma!! ahora hagamos lo verdaderamente complejo, conectemos el supervisor a nuestro agente de sql"
   ]
  },
  {
   "cell_type": "code",
   "execution_count": null,
   "id": "f4a30f04",
   "metadata": {},
   "outputs": [],
   "source": []
  },
  {
   "cell_type": "code",
   "execution_count": null,
   "id": "838427c0",
   "metadata": {},
   "outputs": [],
   "source": []
  }
 ],
 "metadata": {
  "kernelspec": {
   "display_name": "agent_edu",
   "language": "python",
   "name": "python3"
  },
  "language_info": {
   "codemirror_mode": {
    "name": "ipython",
    "version": 3
   },
   "file_extension": ".py",
   "mimetype": "text/x-python",
   "name": "python",
   "nbconvert_exporter": "python",
   "pygments_lexer": "ipython3",
   "version": "3.12.9"
  }
 },
 "nbformat": 4,
 "nbformat_minor": 5
}
